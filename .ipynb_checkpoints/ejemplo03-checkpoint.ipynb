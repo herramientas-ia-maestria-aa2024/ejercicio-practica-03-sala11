{
 "cells": [
  {
   "cell_type": "code",
   "execution_count": 1,
   "id": "6f49d837-9d66-4262-b2b0-3e829b28de8e",
   "metadata": {},
   "outputs": [],
   "source": [
    "import pandas as pd\n"
   ]
  },
  {
   "cell_type": "code",
   "execution_count": 2,
   "id": "5d4765dc-8ffc-4fd9-90b6-483ee2e56910",
   "metadata": {},
   "outputs": [],
   "source": [
    "data = pd.read_csv(\"misdata2.csv\")"
   ]
  },
  {
   "cell_type": "code",
   "execution_count": 3,
   "id": "fbbfdbd8-307b-4101-8cd2-ba776acc7abe",
   "metadata": {},
   "outputs": [
    {
     "name": "stdout",
     "output_type": "stream",
     "text": [
      "Collecting pygwalker\n",
      "\u001b[33m  WARNING: Retrying (Retry(total=4, connect=None, read=None, redirect=None, status=None)) after connection broken by 'ReadTimeoutError(\"HTTPSConnectionPool(host='files.pythonhosted.org', port=443): Read timed out. (read timeout=15)\")': /packages/36/ea/eb46499294c8fc2fc857e7d9725dfa8d2ef6d2275cf2407d8d6018965e06/pygwalker-0.4.8-py3-none-any.whl\u001b[0m\u001b[33m\n",
      "\u001b[0m\u001b[33m  WARNING: Retrying (Retry(total=3, connect=None, read=None, redirect=None, status=None)) after connection broken by 'NewConnectionError('<pip._vendor.urllib3.connection.HTTPSConnection object at 0x7ae81e63c1c0>: Failed to establish a new connection: [Errno 101] La red es inaccesible')': /packages/36/ea/eb46499294c8fc2fc857e7d9725dfa8d2ef6d2275cf2407d8d6018965e06/pygwalker-0.4.8-py3-none-any.whl\u001b[0m\u001b[33m\n",
      "\u001b[0m\u001b[33m  WARNING: Retrying (Retry(total=2, connect=None, read=None, redirect=None, status=None)) after connection broken by 'NewConnectionError('<pip._vendor.urllib3.connection.HTTPSConnection object at 0x7ae81e63c370>: Failed to establish a new connection: [Errno 101] La red es inaccesible')': /packages/36/ea/eb46499294c8fc2fc857e7d9725dfa8d2ef6d2275cf2407d8d6018965e06/pygwalker-0.4.8-py3-none-any.whl\u001b[0m\u001b[33m\n",
      "\u001b[0m  Downloading pygwalker-0.4.8-py3-none-any.whl (2.2 MB)\n",
      "\u001b[2K     \u001b[38;2;114;156;31m━━━━━━━━━━━━━━━━━━━━━━━━━━━━━━━━━━━━━━━━\u001b[0m \u001b[32m2.2/2.2 MB\u001b[0m \u001b[31m387.9 kB/s\u001b[0m eta \u001b[36m0:00:00\u001b[0mm eta \u001b[36m0:00:01\u001b[0m[36m0:00:01\u001b[0m\n",
      "\u001b[?25hCollecting duckdb==0.10.1\n",
      "  Downloading duckdb-0.10.1-cp310-cp310-manylinux_2_17_x86_64.manylinux2014_x86_64.whl (18.1 MB)\n",
      "\u001b[2K     \u001b[38;2;114;156;31m━━━━━━━━━━━━━━━━━━━━━━━━━━━━━━━━━━━━━━━\u001b[0m \u001b[32m18.1/18.1 MB\u001b[0m \u001b[31m223.8 kB/s\u001b[0m eta \u001b[36m0:00:00\u001b[0mm eta \u001b[36m0:00:01\u001b[0m[36m0:00:03\u001b[0m\n",
      "\u001b[?25hCollecting sqlglot>=19.0.0\n",
      "  Downloading sqlglot-23.11.2-py3-none-any.whl (387 kB)\n",
      "\u001b[2K     \u001b[38;2;114;156;31m━━━━━━━━━━━━━━━━━━━━━━━━━━━━━━━━━━━━━\u001b[0m \u001b[32m387.7/387.7 KB\u001b[0m \u001b[31m444.5 kB/s\u001b[0m eta \u001b[36m0:00:00\u001b[0m kB/s\u001b[0m eta \u001b[36m0:00:01\u001b[0m:01\u001b[0m\n",
      "\u001b[?25hRequirement already satisfied: psutil in /home/hugob/Documentos/HerramientasIA/entorno1/lib/python3.10/site-packages (from pygwalker) (5.9.8)\n",
      "Requirement already satisfied: typing-extensions in /home/hugob/Documentos/HerramientasIA/entorno1/lib/python3.10/site-packages (from pygwalker) (4.11.0)\n",
      "Collecting appdirs\n",
      "  Downloading appdirs-1.4.4-py2.py3-none-any.whl (9.6 kB)\n",
      "Collecting sqlalchemy\n",
      "  Downloading SQLAlchemy-2.0.29-cp310-cp310-manylinux_2_17_x86_64.manylinux2014_x86_64.whl (3.1 MB)\n",
      "\u001b[2K     \u001b[38;2;114;156;31m━━━━━━━━━━━━━━━━━━━━━━━━━━━━━━━━━━━━━━━━\u001b[0m \u001b[32m3.1/3.1 MB\u001b[0m \u001b[31m93.6 kB/s\u001b[0m eta \u001b[36m0:00:00\u001b[0mm eta \u001b[36m0:00:01\u001b[0m[36m0:00:01\u001b[0mm\n",
      "\u001b[?25hRequirement already satisfied: ipython in /home/hugob/Documentos/HerramientasIA/entorno1/lib/python3.10/site-packages (from pygwalker) (8.23.0)\n",
      "Collecting segment-analytics-python==2.2.3\n",
      "  Downloading segment_analytics_python-2.2.3-py2.py3-none-any.whl (24 kB)\n",
      "Requirement already satisfied: ipywidgets in /home/hugob/Documentos/HerramientasIA/entorno1/lib/python3.10/site-packages (from pygwalker) (8.1.2)\n",
      "Requirement already satisfied: pandas in /home/hugob/Documentos/HerramientasIA/entorno1/lib/python3.10/site-packages (from pygwalker) (2.2.2)\n",
      "Collecting cachetools\n",
      "  Downloading cachetools-5.3.3-py3-none-any.whl (9.3 kB)\n",
      "Requirement already satisfied: requests in /home/hugob/Documentos/HerramientasIA/entorno1/lib/python3.10/site-packages (from pygwalker) (2.31.0)\n",
      "Collecting pydantic\n",
      "  Downloading pydantic-2.7.1-py3-none-any.whl (409 kB)\n",
      "\u001b[2K     \u001b[38;2;114;156;31m━━━━━━━━━━━━━━━━━━━━━━━━━━━━━━━━━━━━━\u001b[0m \u001b[32m409.3/409.3 KB\u001b[0m \u001b[31m147.6 kB/s\u001b[0m eta \u001b[36m0:00:00\u001b[0m kB/s\u001b[0m eta \u001b[36m0:00:01\u001b[0m:01\u001b[0m\n",
      "\u001b[?25hCollecting gw-dsl-parser==0.1.47\n",
      "  Downloading gw_dsl_parser-0.1.47-py3-none-any.whl (993 kB)\n",
      "\u001b[2K     \u001b[38;2;114;156;31m━━━━━━━━━━━━━━━━━━━━━━━━━━━━━━━━━━━━━\u001b[0m \u001b[32m993.3/993.3 KB\u001b[0m \u001b[31m212.0 kB/s\u001b[0m eta \u001b[36m0:00:00\u001b[0mm eta \u001b[36m0:00:01\u001b[0m[36m0:00:01\u001b[0m\n",
      "\u001b[?25hRequirement already satisfied: jinja2 in /home/hugob/Documentos/HerramientasIA/entorno1/lib/python3.10/site-packages (from pygwalker) (3.1.3)\n",
      "Collecting astor\n",
      "  Downloading astor-0.8.1-py2.py3-none-any.whl (27 kB)\n",
      "Collecting kanaries-track==0.0.4\n",
      "  Downloading kanaries_track-0.0.4-py3-none-any.whl (8.6 kB)\n",
      "Collecting pyarrow\n",
      "  Downloading pyarrow-16.0.0-cp310-cp310-manylinux_2_28_x86_64.whl (40.8 MB)\n",
      "\u001b[2K     \u001b[38;2;114;156;31m━━━━━━━━━━━━━━━━━━━━━━━━━━━━━━━━━━━━━━━\u001b[0m \u001b[32m40.8/40.8 MB\u001b[0m \u001b[31m113.7 kB/s\u001b[0m eta \u001b[36m0:00:00\u001b[0mm eta \u001b[36m0:00:01\u001b[0m[36m0:00:12\u001b[0m\n",
      "\u001b[?25hRequirement already satisfied: pytz in /home/hugob/Documentos/HerramientasIA/entorno1/lib/python3.10/site-packages (from pygwalker) (2024.1)\n",
      "Requirement already satisfied: arrow in /home/hugob/Documentos/HerramientasIA/entorno1/lib/python3.10/site-packages (from pygwalker) (1.3.0)\n",
      "Requirement already satisfied: packaging in /home/hugob/Documentos/HerramientasIA/entorno1/lib/python3.10/site-packages (from pygwalker) (24.0)\n",
      "Collecting wasmtime==12.0.0\n",
      "  Downloading wasmtime-12.0.0-py3-none-manylinux1_x86_64.whl (7.0 MB)\n",
      "\u001b[2K     \u001b[38;2;114;156;31m━━━━━━━━━━━━━━━━━━━━━━━━━━━━━━━━━━━━━━━━\u001b[0m \u001b[32m7.0/7.0 MB\u001b[0m \u001b[31m116.1 kB/s\u001b[0m eta \u001b[36m0:00:00\u001b[0mm eta \u001b[36m0:00:01\u001b[0m[36m0:00:02\u001b[0m\n",
      "\u001b[?25hCollecting dateutils>=0.6.12\n",
      "  Downloading dateutils-0.6.12-py2.py3-none-any.whl (5.7 kB)\n",
      "Collecting backoff>=2.2.1\n",
      "  Downloading backoff-2.2.1-py3-none-any.whl (15 kB)\n",
      "Requirement already satisfied: python-dateutil~=2.2 in /home/hugob/Documentos/HerramientasIA/entorno1/lib/python3.10/site-packages (from segment-analytics-python==2.2.3->pygwalker) (2.9.0.post0)\n",
      "Collecting monotonic~=1.5\n",
      "  Downloading monotonic-1.6-py2.py3-none-any.whl (8.2 kB)\n",
      "Requirement already satisfied: certifi>=2017.4.17 in /home/hugob/Documentos/HerramientasIA/entorno1/lib/python3.10/site-packages (from requests->pygwalker) (2024.2.2)\n",
      "Requirement already satisfied: charset-normalizer<4,>=2 in /home/hugob/Documentos/HerramientasIA/entorno1/lib/python3.10/site-packages (from requests->pygwalker) (3.3.2)\n",
      "Requirement already satisfied: urllib3<3,>=1.21.1 in /home/hugob/Documentos/HerramientasIA/entorno1/lib/python3.10/site-packages (from requests->pygwalker) (2.2.1)\n",
      "Requirement already satisfied: idna<4,>=2.5 in /home/hugob/Documentos/HerramientasIA/entorno1/lib/python3.10/site-packages (from requests->pygwalker) (3.7)\n",
      "Requirement already satisfied: types-python-dateutil>=2.8.10 in /home/hugob/Documentos/HerramientasIA/entorno1/lib/python3.10/site-packages (from arrow->pygwalker) (2.9.0.20240316)\n",
      "Requirement already satisfied: pygments>=2.4.0 in /home/hugob/Documentos/HerramientasIA/entorno1/lib/python3.10/site-packages (from ipython->pygwalker) (2.17.2)\n",
      "Requirement already satisfied: prompt-toolkit<3.1.0,>=3.0.41 in /home/hugob/Documentos/HerramientasIA/entorno1/lib/python3.10/site-packages (from ipython->pygwalker) (3.0.43)\n",
      "Requirement already satisfied: stack-data in /home/hugob/Documentos/HerramientasIA/entorno1/lib/python3.10/site-packages (from ipython->pygwalker) (0.6.3)\n",
      "Requirement already satisfied: decorator in /home/hugob/Documentos/HerramientasIA/entorno1/lib/python3.10/site-packages (from ipython->pygwalker) (5.1.1)\n",
      "Requirement already satisfied: exceptiongroup in /home/hugob/Documentos/HerramientasIA/entorno1/lib/python3.10/site-packages (from ipython->pygwalker) (1.2.1)\n",
      "Requirement already satisfied: jedi>=0.16 in /home/hugob/Documentos/HerramientasIA/entorno1/lib/python3.10/site-packages (from ipython->pygwalker) (0.19.1)\n",
      "Requirement already satisfied: matplotlib-inline in /home/hugob/Documentos/HerramientasIA/entorno1/lib/python3.10/site-packages (from ipython->pygwalker) (0.1.7)\n",
      "Requirement already satisfied: traitlets>=5.13.0 in /home/hugob/Documentos/HerramientasIA/entorno1/lib/python3.10/site-packages (from ipython->pygwalker) (5.14.3)\n",
      "Requirement already satisfied: pexpect>4.3 in /home/hugob/Documentos/HerramientasIA/entorno1/lib/python3.10/site-packages (from ipython->pygwalker) (4.9.0)\n",
      "Requirement already satisfied: widgetsnbextension~=4.0.10 in /home/hugob/Documentos/HerramientasIA/entorno1/lib/python3.10/site-packages (from ipywidgets->pygwalker) (4.0.10)\n",
      "Requirement already satisfied: comm>=0.1.3 in /home/hugob/Documentos/HerramientasIA/entorno1/lib/python3.10/site-packages (from ipywidgets->pygwalker) (0.2.2)\n",
      "Requirement already satisfied: jupyterlab-widgets~=3.0.10 in /home/hugob/Documentos/HerramientasIA/entorno1/lib/python3.10/site-packages (from ipywidgets->pygwalker) (3.0.10)\n",
      "Requirement already satisfied: MarkupSafe>=2.0 in /home/hugob/Documentos/HerramientasIA/entorno1/lib/python3.10/site-packages (from jinja2->pygwalker) (2.1.5)\n",
      "Requirement already satisfied: numpy>=1.22.4 in /home/hugob/Documentos/HerramientasIA/entorno1/lib/python3.10/site-packages (from pandas->pygwalker) (1.26.4)\n",
      "Requirement already satisfied: tzdata>=2022.7 in /home/hugob/Documentos/HerramientasIA/entorno1/lib/python3.10/site-packages (from pandas->pygwalker) (2024.1)\n",
      "Collecting pydantic-core==2.18.2\n",
      "  Downloading pydantic_core-2.18.2-cp310-cp310-manylinux_2_17_x86_64.manylinux2014_x86_64.whl (2.1 MB)\n",
      "\u001b[2K     \u001b[38;2;114;156;31m━━━━━━━━━━━━━━━━━━━━━━━━━━━━━━━━━━━━━━━━\u001b[0m \u001b[32m2.1/2.1 MB\u001b[0m \u001b[31m111.0 kB/s\u001b[0m eta \u001b[36m0:00:00\u001b[0mm eta \u001b[36m0:00:01\u001b[0m[36m0:00:01\u001b[0m\n",
      "\u001b[?25hCollecting annotated-types>=0.4.0\n",
      "  Using cached annotated_types-0.6.0-py3-none-any.whl (12 kB)\n",
      "Collecting greenlet!=0.4.17\n",
      "  Downloading greenlet-3.0.3-cp310-cp310-manylinux_2_24_x86_64.manylinux_2_28_x86_64.whl (616 kB)\n",
      "\u001b[2K     \u001b[38;2;114;156;31m━━━━━━━━━━━━━━━━━━━━━━━━━━━━━━━━━━━━━\u001b[0m \u001b[32m616.0/616.0 KB\u001b[0m \u001b[31m280.7 kB/s\u001b[0m eta \u001b[36m0:00:00\u001b[0m1m275.4 kB/s\u001b[0m eta \u001b[36m0:00:01\u001b[0m\n",
      "\u001b[?25hRequirement already satisfied: parso<0.9.0,>=0.8.3 in /home/hugob/Documentos/HerramientasIA/entorno1/lib/python3.10/site-packages (from jedi>=0.16->ipython->pygwalker) (0.8.4)\n",
      "Requirement already satisfied: ptyprocess>=0.5 in /home/hugob/Documentos/HerramientasIA/entorno1/lib/python3.10/site-packages (from pexpect>4.3->ipython->pygwalker) (0.7.0)\n",
      "Requirement already satisfied: wcwidth in /home/hugob/Documentos/HerramientasIA/entorno1/lib/python3.10/site-packages (from prompt-toolkit<3.1.0,>=3.0.41->ipython->pygwalker) (0.2.13)\n",
      "Requirement already satisfied: six>=1.5 in /home/hugob/Documentos/HerramientasIA/entorno1/lib/python3.10/site-packages (from python-dateutil~=2.2->segment-analytics-python==2.2.3->pygwalker) (1.16.0)\n",
      "Requirement already satisfied: executing>=1.2.0 in /home/hugob/Documentos/HerramientasIA/entorno1/lib/python3.10/site-packages (from stack-data->ipython->pygwalker) (2.0.1)\n",
      "Requirement already satisfied: pure-eval in /home/hugob/Documentos/HerramientasIA/entorno1/lib/python3.10/site-packages (from stack-data->ipython->pygwalker) (0.2.2)\n",
      "Requirement already satisfied: asttokens>=2.1.0 in /home/hugob/Documentos/HerramientasIA/entorno1/lib/python3.10/site-packages (from stack-data->ipython->pygwalker) (2.4.1)\n",
      "Installing collected packages: monotonic, appdirs, wasmtime, sqlglot, pydantic-core, pyarrow, greenlet, duckdb, cachetools, backoff, astor, annotated-types, sqlalchemy, segment-analytics-python, pydantic, gw-dsl-parser, dateutils, kanaries-track, pygwalker\n",
      "Successfully installed annotated-types-0.6.0 appdirs-1.4.4 astor-0.8.1 backoff-2.2.1 cachetools-5.3.3 dateutils-0.6.12 duckdb-0.10.1 greenlet-3.0.3 gw-dsl-parser-0.1.47 kanaries-track-0.0.4 monotonic-1.6 pyarrow-16.0.0 pydantic-2.7.1 pydantic-core-2.18.2 pygwalker-0.4.8 segment-analytics-python-2.2.3 sqlalchemy-2.0.29 sqlglot-23.11.2 wasmtime-12.0.0\n"
     ]
    }
   ],
   "source": [
    "!pip install pygwalker\n",
    "# si se sigue este proceso, deberá reiniciar el jupyter-lab"
   ]
  },
  {
   "cell_type": "code",
   "execution_count": 4,
   "id": "1dfe7d68-e40e-44cb-a362-66acd5b9e71d",
   "metadata": {},
   "outputs": [],
   "source": [
    "import pygwalker as pyg\n"
   ]
  },
  {
   "cell_type": "code",
   "execution_count": 5,
   "id": "317ce43f-25d7-48dd-a11f-484004a8db82",
   "metadata": {},
   "outputs": [
    {
     "data": {
      "application/vnd.jupyter.widget-view+json": {
       "model_id": "fd70f9976a0248f391e2ac83953f7164",
       "version_major": 2,
       "version_minor": 0
      },
      "text/plain": [
       "Box(children=(HTML(value='<div id=\"ifr-pyg-000616cd45875ade4wS7F1EYy8Lsa0m6\" style=\"height: auto\">\\n    <head>…"
      ]
     },
     "metadata": {},
     "output_type": "display_data"
    },
    {
     "data": {
      "text/html": [],
      "text/plain": [
       "<IPython.core.display.HTML object>"
      ]
     },
     "metadata": {},
     "output_type": "display_data"
    },
    {
     "data": {
      "text/plain": [
       "<pygwalker.api.pygwalker.PygWalker at 0x757ef981d810>"
      ]
     },
     "execution_count": 5,
     "metadata": {},
     "output_type": "execute_result"
    }
   ],
   "source": [
    "pyg.walk(data)\n"
   ]
  }
 ],
 "metadata": {
  "kernelspec": {
   "display_name": "Python 3 (ipykernel)",
   "language": "python",
   "name": "python3"
  },
  "language_info": {
   "codemirror_mode": {
    "name": "ipython",
    "version": 3
   },
   "file_extension": ".py",
   "mimetype": "text/x-python",
   "name": "python",
   "nbconvert_exporter": "python",
   "pygments_lexer": "ipython3",
   "version": "3.10.12"
  }
 },
 "nbformat": 4,
 "nbformat_minor": 5
}
